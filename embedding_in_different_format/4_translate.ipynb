{
 "cells": [
  {
   "cell_type": "code",
   "execution_count": 2,
   "metadata": {},
   "outputs": [],
   "source": [
    "import json, glob\n",
    "from dotenv import load_dotenv, find_dotenv; _ = load_dotenv(find_dotenv())"
   ]
  },
  {
   "cell_type": "code",
   "execution_count": 3,
   "metadata": {},
   "outputs": [],
   "source": [
    "from langchain_openai import ChatOpenAI\n",
    "from langchain.prompts import ChatPromptTemplate\n",
    "from langchain.schema.runnable import RunnablePassthrough"
   ]
  },
  {
   "cell_type": "code",
   "execution_count": 4,
   "metadata": {},
   "outputs": [],
   "source": [
    "topic_type = 'foods'\n",
    "topic_file = f'{topic_type}.txt'"
   ]
  },
  {
   "cell_type": "code",
   "execution_count": 5,
   "metadata": {},
   "outputs": [
    {
     "data": {
      "text/plain": [
       "['じゃがいも', '玉ねぎ', 'にんじん', 'なす', 'トマト', 'ピーマン']"
      ]
     },
     "execution_count": 5,
     "metadata": {},
     "output_type": "execute_result"
    }
   ],
   "source": [
    "with open(f'config/{topic_file}', 'r') as f:\n",
    "    topic_list = f.read().splitlines()\n",
    "topic_list"
   ]
  },
  {
   "cell_type": "code",
   "execution_count": 46,
   "metadata": {},
   "outputs": [
    {
     "data": {
      "text/plain": [
       "{'language': {'Japanese': 'ja',\n",
       "  'English': 'en',\n",
       "  'Chinese': 'zh',\n",
       "  'German': 'de',\n",
       "  'Arabic': 'ar',\n",
       "  'Russian': 'ru'},\n",
       " 'format': {'prose': '',\n",
       "  'bullet_list': '情報を構造化して箇条書きに変換してください。',\n",
       "  'markdown': '階層構造を持つMarkdownに変換してください。各セクション内の文章は散文にしてください。',\n",
       "  'json': '情報を構造化してJson形式に変換してください。Key-Valueは入力と同じ言語にしてください。',\n",
       "  'convesation': 'AssistantからUserへ情報を伝える会話形式にしてください。'},\n",
       " 'length': ['full', 'short_sum', 'long_sum']}"
      ]
     },
     "execution_count": 46,
     "metadata": {},
     "output_type": "execute_result"
    }
   ],
   "source": [
    "with open(f'config/config.json', 'r') as f:\n",
    "    config = json.load(f)\n",
    "config"
   ]
  },
  {
   "cell_type": "markdown",
   "metadata": {},
   "source": [
    "## Translate chain"
   ]
  },
  {
   "cell_type": "code",
   "execution_count": 7,
   "metadata": {},
   "outputs": [],
   "source": [
    "template_str = \"\"\"\\\n",
    "ユーザーが入力したテキストを指示された言語に翻訳してください。\n",
    "翻訳テキストは元のテキストの情報を全て保持するようにしてください。\n",
    "\"\"\""
   ]
  },
  {
   "cell_type": "code",
   "execution_count": 8,
   "metadata": {},
   "outputs": [],
   "source": [
    "prompt_template = ChatPromptTemplate.from_messages([\n",
    "    ('system', template_str),\n",
    "    ('user', '{text}'),\n",
    "    ('user', '言語: {language}')\n",
    "])\n",
    "\n",
    "chat = ChatOpenAI(model='gpt-3.5-turbo-0125', temperature=0., max_tokens=4096)\n",
    "\n",
    "translate_chain = prompt_template | chat"
   ]
  },
  {
   "cell_type": "markdown",
   "metadata": {},
   "source": [
    "### Test"
   ]
  },
  {
   "cell_type": "code",
   "execution_count": 9,
   "metadata": {},
   "outputs": [],
   "source": [
    "# topic = topic_list[0]\n",
    "# length_type = 'full'\n",
    "# form = 'prose'\n",
    "\n",
    "# res = translate_chain.batch([\n",
    "#     {\n",
    "#         'text': open(f'./data/{topic_type}/{topic}/ja-{form}-{length_type}.txt', 'r').read(),\n",
    "#         'language': lang\n",
    "#     }\n",
    "#     for lang, lang2 in config['language'].items() if lang2 != 'ja'\n",
    "# ])"
   ]
  },
  {
   "cell_type": "code",
   "execution_count": 10,
   "metadata": {},
   "outputs": [],
   "source": [
    "# for r in res:\n",
    "#     print(r.content)"
   ]
  },
  {
   "cell_type": "markdown",
   "metadata": {},
   "source": [
    "### Batch"
   ]
  },
  {
   "cell_type": "code",
   "execution_count": 11,
   "metadata": {},
   "outputs": [
    {
     "name": "stdout",
     "output_type": "stream",
     "text": [
      "90\n"
     ]
    }
   ],
   "source": [
    "files = [\n",
    "    file\n",
    "    for topic in topic_list\n",
    "    for file in glob.glob(f'./data/{topic_type}/{topic}/*.txt')\n",
    "]\n",
    "print(len(files))"
   ]
  },
  {
   "cell_type": "code",
   "execution_count": 47,
   "metadata": {},
   "outputs": [],
   "source": [
    "variables = [\n",
    "    {\n",
    "        'file': file,\n",
    "        'language': lang,\n",
    "        'language2': lang2,\n",
    "        'text': open(file,'r').read()\n",
    "    }\n",
    "    for lang, lang2 in config['language'].items() if lang2 not in ['ja','zh']\n",
    "    for file in files\n",
    "]"
   ]
  },
  {
   "cell_type": "code",
   "execution_count": 48,
   "metadata": {},
   "outputs": [],
   "source": [
    "# res = translate_chain.batch([\n",
    "#     {\n",
    "#         'text': v['text'],\n",
    "#         'language': v['language']\n",
    "#     }\n",
    "#     for v in variables\n",
    "# ])"
   ]
  },
  {
   "cell_type": "code",
   "execution_count": 50,
   "metadata": {},
   "outputs": [
    {
     "data": {
      "text/plain": [
       "360"
      ]
     },
     "execution_count": 50,
     "metadata": {},
     "output_type": "execute_result"
    }
   ],
   "source": [
    "len(variables)"
   ]
  },
  {
   "cell_type": "code",
   "execution_count": 51,
   "metadata": {},
   "outputs": [],
   "source": [
    "res = []"
   ]
  },
  {
   "cell_type": "code",
   "execution_count": 52,
   "metadata": {},
   "outputs": [
    {
     "name": "stderr",
     "output_type": "stream",
     "text": [
      "100%|██████████| 360/360 [47:18<00:00,  7.88s/it]\n"
     ]
    }
   ],
   "source": [
    "from tqdm import tqdm\n",
    "for i,v in enumerate(tqdm(variables)):\n",
    "    if len(res) > i:\n",
    "        continue\n",
    "    r = translate_chain.invoke({\n",
    "        'text': v['text'],\n",
    "        'language': v['language']\n",
    "    }, config=config)\n",
    "    res.append(r)"
   ]
  },
  {
   "cell_type": "code",
   "execution_count": 55,
   "metadata": {},
   "outputs": [],
   "source": [
    "for r, v in zip(res, variables):\n",
    "    # print(v['file'].replace('ja',v['language2']))\n",
    "    with open(v['file'].replace('ja',v['language2']), 'w') as f:\n",
    "        f.write(r.content)"
   ]
  }
 ],
 "metadata": {
  "kernelspec": {
   "display_name": ".venv",
   "language": "python",
   "name": "python3"
  },
  "language_info": {
   "codemirror_mode": {
    "name": "ipython",
    "version": 3
   },
   "file_extension": ".py",
   "mimetype": "text/x-python",
   "name": "python",
   "nbconvert_exporter": "python",
   "pygments_lexer": "ipython3",
   "version": "3.10.13"
  }
 },
 "nbformat": 4,
 "nbformat_minor": 2
}
