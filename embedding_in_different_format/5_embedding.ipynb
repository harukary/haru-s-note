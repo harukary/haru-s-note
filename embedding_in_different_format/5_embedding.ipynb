{
 "cells": [
  {
   "cell_type": "code",
   "execution_count": 1,
   "metadata": {},
   "outputs": [],
   "source": [
    "import json, glob\n",
    "from dotenv import load_dotenv, find_dotenv; _ = load_dotenv(find_dotenv())"
   ]
  },
  {
   "cell_type": "code",
   "execution_count": 2,
   "metadata": {},
   "outputs": [],
   "source": [
    "from langchain_openai.embeddings import OpenAIEmbeddings\n",
    "embedding_2 = OpenAIEmbeddings(model='text-embedding-ada-002')\n",
    "embedding_3_small = OpenAIEmbeddings(model='text-embedding-3-small')\n",
    "embedding_3_large = OpenAIEmbeddings(model='text-embedding-3-large')\n",
    "# print(embedding_model.embed_query(\"Hello world\"))\n",
    "# print(embedding_model.embed_documents([\"Hello world\", \"Goodbye world\"]))"
   ]
  },
  {
   "cell_type": "code",
   "execution_count": 3,
   "metadata": {},
   "outputs": [],
   "source": [
    "topic_type = 'foods'\n",
    "topic_file = f'{topic_type}.txt'"
   ]
  },
  {
   "cell_type": "code",
   "execution_count": 4,
   "metadata": {},
   "outputs": [
    {
     "data": {
      "text/plain": [
       "['じゃがいも', '玉ねぎ', 'にんじん', 'なす', 'トマト', 'ピーマン']"
      ]
     },
     "execution_count": 4,
     "metadata": {},
     "output_type": "execute_result"
    }
   ],
   "source": [
    "with open(f'config/{topic_file}', 'r') as f:\n",
    "    topic_list = f.read().splitlines()\n",
    "topic_list"
   ]
  },
  {
   "cell_type": "code",
   "execution_count": 5,
   "metadata": {},
   "outputs": [
    {
     "data": {
      "text/plain": [
       "450"
      ]
     },
     "execution_count": 5,
     "metadata": {},
     "output_type": "execute_result"
    }
   ],
   "source": [
    "files = [\n",
    "    file\n",
    "    for topic in topic_list for file in glob.glob(f'./data/{topic_type}/{topic}/*.txt')\n",
    "]\n",
    "len(files)"
   ]
  },
  {
   "cell_type": "code",
   "execution_count": 6,
   "metadata": {},
   "outputs": [
    {
     "data": {
      "text/plain": [
       "['en', 'prose', 'long_sum']"
      ]
     },
     "execution_count": 6,
     "metadata": {},
     "output_type": "execute_result"
    }
   ],
   "source": [
    "files[0].split('/')[-1].split('.')[0].split('-')"
   ]
  },
  {
   "cell_type": "code",
   "execution_count": 7,
   "metadata": {},
   "outputs": [],
   "source": [
    "data = []\n",
    "for file in files:\n",
    "    tree = file.split('/')\n",
    "    topic = tree[-2]\n",
    "    lang, format_type, length_type = tree[-1].split('.')[0].split('-')\n",
    "    # print(topic, lang, format_type, length_type)\n",
    "    data.append({\n",
    "        'topic': topic,\n",
    "        'lang': lang,\n",
    "        'format': format_type,\n",
    "        'length': length_type,\n",
    "        'text': open(file,'r').read()\n",
    "    })"
   ]
  },
  {
   "cell_type": "code",
   "execution_count": 8,
   "metadata": {},
   "outputs": [],
   "source": [
    "texts = [d['text'] for d in data]\n",
    "embeddings_2 = embedding_2.embed_documents(texts)\n",
    "embeddings_3_small = embedding_3_small.embed_documents(texts)\n",
    "embeddings_3_large = embedding_3_large.embed_documents(texts)"
   ]
  },
  {
   "cell_type": "code",
   "execution_count": 9,
   "metadata": {},
   "outputs": [],
   "source": [
    "for i, d in enumerate(data):\n",
    "    data[i]['embedding_2'] = embeddings_2[i]\n",
    "    data[i]['embedding_3_small'] = embeddings_3_small[i]\n",
    "    data[i]['embedding_3_large'] = embeddings_3_large[i]"
   ]
  },
  {
   "cell_type": "code",
   "execution_count": 10,
   "metadata": {},
   "outputs": [],
   "source": [
    "import pandas as pd\n",
    "df = pd.DataFrame(data)\n",
    "df.to_csv('data/foods/data.csv')"
   ]
  }
 ],
 "metadata": {
  "kernelspec": {
   "display_name": ".venv",
   "language": "python",
   "name": "python3"
  },
  "language_info": {
   "codemirror_mode": {
    "name": "ipython",
    "version": 3
   },
   "file_extension": ".py",
   "mimetype": "text/x-python",
   "name": "python",
   "nbconvert_exporter": "python",
   "pygments_lexer": "ipython3",
   "version": "3.10.13"
  }
 },
 "nbformat": 4,
 "nbformat_minor": 2
}
