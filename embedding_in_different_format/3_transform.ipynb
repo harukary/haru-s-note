{
 "cells": [
  {
   "cell_type": "code",
   "execution_count": 1,
   "metadata": {},
   "outputs": [],
   "source": [
    "import os, json\n",
    "from dotenv import load_dotenv, find_dotenv; _ = load_dotenv(find_dotenv())"
   ]
  },
  {
   "cell_type": "code",
   "execution_count": 2,
   "metadata": {},
   "outputs": [],
   "source": [
    "from langchain_openai import ChatOpenAI\n",
    "from langchain.prompts import ChatPromptTemplate"
   ]
  },
  {
   "cell_type": "code",
   "execution_count": 3,
   "metadata": {},
   "outputs": [],
   "source": [
    "topic_type = 'foods'\n",
    "topic_file = f'{topic_type}.txt'"
   ]
  },
  {
   "cell_type": "code",
   "execution_count": 4,
   "metadata": {},
   "outputs": [
    {
     "data": {
      "text/plain": [
       "['じゃがいも', '玉ねぎ', 'にんじん', 'なす', 'トマト', 'ピーマン']"
      ]
     },
     "execution_count": 4,
     "metadata": {},
     "output_type": "execute_result"
    }
   ],
   "source": [
    "with open(f'config/{topic_file}', 'r') as f:\n",
    "    topic_list = f.read().splitlines()\n",
    "topic_list"
   ]
  },
  {
   "cell_type": "code",
   "execution_count": 5,
   "metadata": {},
   "outputs": [
    {
     "data": {
      "text/plain": [
       "{'languages': {'Japanese': 'ja',\n",
       "  'English': 'en',\n",
       "  'Chinese': 'zh',\n",
       "  'German': 'de',\n",
       "  'Arabic': 'ar',\n",
       "  'Russian': 'ru'},\n",
       " 'format': {'prose': '',\n",
       "  'bullet_list': '情報を構造化して箇条書きに変換してください。',\n",
       "  'markdown': '階層構造を持つMarkdownに変換してください。各セクション内の文章は散文にしてください。',\n",
       "  'json': '情報を構造化してJson形式に変換してください。Key-Valueは入力と同じ言語にしてください。',\n",
       "  'convesation': 'AssistantからUserへ情報を伝える会話形式にしてください。'},\n",
       " 'length': ['full', 'short_sum', 'long_sum']}"
      ]
     },
     "execution_count": 5,
     "metadata": {},
     "output_type": "execute_result"
    }
   ],
   "source": [
    "with open(f'config/config.json', 'r') as f:\n",
    "    config = json.load(f)\n",
    "config"
   ]
  },
  {
   "cell_type": "markdown",
   "metadata": {},
   "source": [
    "## Transform chain"
   ]
  },
  {
   "cell_type": "code",
   "execution_count": 6,
   "metadata": {},
   "outputs": [],
   "source": [
    "template_str = \"\"\"\\\n",
    "ユーザーが入力したテキストを指示された形式に変換してください。\n",
    "変換後テキストは元のテキストの情報を全て保持するようにしてください。\n",
    "\"\"\""
   ]
  },
  {
   "cell_type": "code",
   "execution_count": 7,
   "metadata": {},
   "outputs": [],
   "source": [
    "prompt_template = ChatPromptTemplate.from_messages([\n",
    "    ('system', template_str),\n",
    "    ('user', '{text}'),\n",
    "    ('user', '形式: {format}\\n{format_inst}')\n",
    "])\n",
    "\n",
    "chat = ChatOpenAI(model='gpt-3.5-turbo-0125', temperature=0., max_tokens=4096)\n",
    "\n",
    "transform_chain = prompt_template | chat"
   ]
  },
  {
   "cell_type": "markdown",
   "metadata": {},
   "source": [
    "### Test"
   ]
  },
  {
   "cell_type": "code",
   "execution_count": 8,
   "metadata": {},
   "outputs": [],
   "source": [
    "topic = topic_list[0]\n",
    "\n",
    "res = transform_chain.batch([\n",
    "    {\n",
    "        'text': open(f'./data/{topic_type}/{topic}/ja-prose-full.txt', 'r').read(),\n",
    "        'format': form,\n",
    "        'format_inst': inst,\n",
    "    }\n",
    "    for form, inst in config['format'].items() if form != 'Prose'\n",
    "])"
   ]
  },
  {
   "cell_type": "code",
   "execution_count": 9,
   "metadata": {},
   "outputs": [
    {
     "name": "stdout",
     "output_type": "stream",
     "text": [
      "full prose ==============================\n",
      "じゃがいもは、南アメリカ原産の野菜で、世界中で広く栽培されている主食として知られています。日本でも古くから栽培され、多くの家庭で親しまれている食材です。\n",
      "\n",
      "じゃがいもは、寒冷な気候での栽培が適しており、日本国内では北海道や青森などの地域で生産されています。栄養価も高く、ビタミンCやカリウム、食物繊維が豊富に含まれています。特に皮ごと食べることで、食物繊維を摂取することができます。\n",
      "\n",
      "調理方法としては、茹でる、焼く、揚げる、蒸すなどさまざまな方法があります。特にポテトサラダやポテトフライ、ポテトグラタンなど、洋食の定番料理に使われることが多いです。また、和食でも煮物や炒め物に加えられることもあります。\n",
      "\n",
      "風味は、甘みとほくほくした食感が特徴で、調理方法によってさまざまな味わいを楽しむことができます。旬の季節は秋から冬で、収穫後は日持ちが良いため、長期間保存することができます。\n",
      "\n",
      "じゃがいもは、肉類や野菜との相性が良く、玉ねぎやニンニク、ローズマリー、オリーブオイルなどとの組み合わせもおすすめです。また、じゃがいもを蒸かしてから調理すると、さらにふんわりとした食感を楽しむことができます。\n",
      "\n",
      "その他の特徴としては、じゃがいもは皮ごと食べられるため、栄養価を最大限に活かすことができます。また、じゃがいもの種類には、サラダ用や煮崩れしにくい種類などさまざまな種類があり、料理に合わせて選ぶことができます。\n",
      "\n",
      "full bullet_list ==============================\n",
      "- じゃがいもは、南アメリカ原産の野菜で、世界中で広く栽培されている主食として知られています。\n",
      "- 日本でも古くから栽培され、多くの家庭で親しまれている食材です。\n",
      "- 寒冷な気候での栽培が適しており、日本国内では北海道や青森などの地域で生産されています。\n",
      "- 栄養価も高く、ビタミンCやカリウム、食物繊維が豊富に含まれています。\n",
      "- 皮ごと食べることで、食物繊維を摂取することができます。\n",
      "- 調理方法としては、茹でる、焼く、揚げる、蒸すなどさまざまな方法があります。\n",
      "- 洋食の定番料理に使われることが多いポテトサラダやポテトフライ、ポテトグラタンなどがあります。\n",
      "- 和食でも煮物や炒め物に加えられることもあります。\n",
      "- 甘みとほくほくした食感が特徴で、調理方法によってさまざまな味わいを楽しむことができます。\n",
      "- 旬の季節は秋から冬で、収穫後は日持ちが良いため、長期間保存することができます。\n",
      "- 肉類や野菜との相性が良く、玉ねぎやニンニク、ローズマリー、オリーブオイルなどとの組み合わせもおすすめです。\n",
      "- 蒸かしてから調理すると、さらにふんわりとした食感を楽しむことができます。\n",
      "- 皮ごと食べられるため、栄養価を最大限に活かすことができます。\n",
      "- サラダ用や煮崩れしにくい種類などさまざまな種類があり、料理に合わせて選ぶことができます。\n",
      "\n",
      "full markdown ==============================\n",
      "# じゃがいもについて\n",
      "\n",
      "じゃがいもは、南アメリカ原産の野菜で、世界中で広く栽培されている主食として知られています。日本でも古くから栽培され、多くの家庭で親しまれている食材です。\n",
      "\n",
      "## 栽培と栄養価\n",
      "\n",
      "じゃがいもは、寒冷な気候での栽培が適しており、日本国内では北海道や青森などの地域で生産されています。栄養価も高く、ビタミンCやカリウム、食物繊維が豊富に含まれています。特に皮ごと食べることで、食物繊維を摂取することができます。\n",
      "\n",
      "## 調理方法\n",
      "\n",
      "調理方法としては、茹でる、焼く、揚げる、蒸すなどさまざまな方法があります。特にポテトサラダやポテトフライ、ポテトグラタンなど、洋食の定番料理に使われることが多いです。また、和食でも煮物や炒め物に加えられることもあります。\n",
      "\n",
      "## 風味と保存\n",
      "\n",
      "風味は、甘みとほくほくした食感が特徴で、調理方法によってさまざまな味わいを楽しむことができます。旬の季節は秋から冬で、収穫後は日持ちが良いため、長期間保存することができます。\n",
      "\n",
      "## おすすめの組み合わせ\n",
      "\n",
      "じゃがいもは、肉類や野菜との相性が良く、玉ねぎやニンニク、ローズマリー、オリーブオイルなどとの組み合わせもおすすめです。また、じゃがいもを蒸かしてから調理すると、さらにふんわりとした食感を楽しむことができます。\n",
      "\n",
      "## その他の特徴\n",
      "\n",
      "じゃがいもは皮ごと食べられるため、栄養価を最大限に活かすことができます。また、じゃがいもの種類には、サラダ用や煮崩れしにくい種類などさまざまな種類があり、料理に合わせて選ぶことができます。\n",
      "\n",
      "full json ==============================\n",
      "{\n",
      "    \"じゃがいも\": {\n",
      "        \"原産地\": \"南アメリカ\",\n",
      "        \"栽培地域\": [\"日本\", \"北海道\", \"青森\"],\n",
      "        \"栄養価\": {\n",
      "            \"ビタミンC\": \"豊富\",\n",
      "            \"カリウム\": \"豊富\",\n",
      "            \"食物繊維\": \"豊富\"\n",
      "        },\n",
      "        \"調理方法\": [\"茹でる\", \"焼く\", \"揚げる\", \"蒸す\"],\n",
      "        \"風味\": \"甘みとほくほくした食感\",\n",
      "        \"旬の季節\": \"秋から冬\",\n",
      "        \"保存方法\": \"日持ちが良い\",\n",
      "        \"相性の良い食材\": [\"肉類\", \"野菜\", \"玉ねぎ\", \"ニンニク\", \"ローズマリー\", \"オリーブオイル\"],\n",
      "        \"特徴\": {\n",
      "            \"皮ごと食べられる\": true,\n",
      "            \"種類の選択肢\": [\"サラダ用\", \"煮崩れしにくい種類\"]\n",
      "        }\n",
      "    }\n",
      "}\n",
      "\n",
      "full convesation ==============================\n",
      "Assistant: じゃがいもは、南アメリカ原産の野菜で、世界中で広く栽培されている主食として知られています。日本でも古くから栽培され、多くの家庭で親しまれている食材です。\n",
      "\n",
      "User: へぇ、じゃがいもってそんなに栄養価が高いんですか？\n",
      "\n",
      "Assistant: そうですね。じゃがいもにはビタミンCやカリウム、食物繊維が豊富に含まれています。特に皮ごと食べることで、食物繊維を摂取することができます。\n",
      "\n",
      "User: じゃがいもの風味ってどんな感じなんですか？\n",
      "\n",
      "Assistant: じゃがいもの風味は甘みとほくほくした食感が特徴です。さまざまな調理方法でさまざまな味わいを楽しむことができますよ。\n",
      "\n",
      "User: じゃがいもって保存がきくんですか？\n",
      "\n",
      "Assistant: はい、じゃがいもは収穫後日持ちが良いため、長期間保存することができます。秋から冬が旬の季節です。\n",
      "\n",
      "User: じゃがいもと一緒に合う食材はありますか？\n",
      "\n",
      "Assistant: じゃがいもは肉類や野菜との相性が良く、玉ねぎやニンニク、ローズマリー、オリーブオイルなどとの組み合わせもおすすめです。また、蒸かしてから調理すると、さらにふんわりとした食感を楽しむことができます。\n",
      "\n",
      "User: じゃがいもの種類っていろいろあるんですか？\n",
      "\n",
      "Assistant: はい、じゃがいもの種類にはサラダ用や煮崩れしにくい種類などさまざまな種類があります。料理に合わせて選ぶことができますよ。\n",
      "\n"
     ]
    }
   ],
   "source": [
    "for r,(t,f) in zip(res, [(typ,form) for typ in config['length'] for form in config['format'] if form != 'Prose']):\n",
    "    print(t,f,'='*30)\n",
    "    print(r.content)\n",
    "    print()"
   ]
  },
  {
   "cell_type": "markdown",
   "metadata": {},
   "source": [
    "### Batch"
   ]
  },
  {
   "cell_type": "code",
   "execution_count": 10,
   "metadata": {},
   "outputs": [],
   "source": [
    "variables = [\n",
    "    {\n",
    "        'topic': topic,\n",
    "        'length': length,\n",
    "        'format': form,\n",
    "        'format_inst': inst,\n",
    "    }\n",
    "    for topic in topic_list\n",
    "    for length in config['length']\n",
    "    for form, inst in config['format'].items() if form != 'prose'\n",
    "]"
   ]
  },
  {
   "cell_type": "code",
   "execution_count": 11,
   "metadata": {},
   "outputs": [
    {
     "name": "stdout",
     "output_type": "stream",
     "text": [
      "72\n"
     ]
    }
   ],
   "source": [
    "inputs = [\n",
    "    {\n",
    "        'text': open(f'./data/{topic_type}/{v[\"topic\"]}/ja-prose-{v[\"length\"]}.txt', 'r').read(),\n",
    "        'format': v[\"format\"],\n",
    "        'format_inst': v[\"format_inst\"],\n",
    "    }\n",
    "    for v in variables\n",
    "]\n",
    "print(len(inputs))"
   ]
  },
  {
   "cell_type": "code",
   "execution_count": 17,
   "metadata": {},
   "outputs": [],
   "source": [
    "# for v in variables:\n",
    "#     print(v)"
   ]
  },
  {
   "cell_type": "code",
   "execution_count": 18,
   "metadata": {},
   "outputs": [],
   "source": [
    "res = transform_chain.batch(inputs)"
   ]
  },
  {
   "cell_type": "code",
   "execution_count": 14,
   "metadata": {},
   "outputs": [],
   "source": [
    "for r, v in zip(res, variables):\n",
    "    with open(f'./data/{topic_type}/{v[\"topic\"]}/ja-{v[\"format\"]}-{v[\"length\"]}.txt', 'w') as f:\n",
    "        f.write(r.content)"
   ]
  }
 ],
 "metadata": {
  "kernelspec": {
   "display_name": ".venv",
   "language": "python",
   "name": "python3"
  },
  "language_info": {
   "codemirror_mode": {
    "name": "ipython",
    "version": 3
   },
   "file_extension": ".py",
   "mimetype": "text/x-python",
   "name": "python",
   "nbconvert_exporter": "python",
   "pygments_lexer": "ipython3",
   "version": "3.10.13"
  }
 },
 "nbformat": 4,
 "nbformat_minor": 2
}
