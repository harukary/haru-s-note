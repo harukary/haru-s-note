{
 "cells": [
  {
   "cell_type": "code",
   "execution_count": 1,
   "metadata": {},
   "outputs": [],
   "source": [
    "import os\n",
    "import pandas as pd\n",
    "from dotenv import load_dotenv, find_dotenv; _ = load_dotenv(find_dotenv())"
   ]
  },
  {
   "cell_type": "code",
   "execution_count": 2,
   "metadata": {},
   "outputs": [],
   "source": [
    "topic_type = 'foods'\n",
    "topic_file = f'{topic_type}.txt'"
   ]
  },
  {
   "cell_type": "code",
   "execution_count": 3,
   "metadata": {},
   "outputs": [
    {
     "name": "stdout",
     "output_type": "stream",
     "text": [
      "450\n"
     ]
    },
    {
     "data": {
      "text/html": [
       "<div>\n",
       "<style scoped>\n",
       "    .dataframe tbody tr th:only-of-type {\n",
       "        vertical-align: middle;\n",
       "    }\n",
       "\n",
       "    .dataframe tbody tr th {\n",
       "        vertical-align: top;\n",
       "    }\n",
       "\n",
       "    .dataframe thead th {\n",
       "        text-align: right;\n",
       "    }\n",
       "</style>\n",
       "<table border=\"1\" class=\"dataframe\">\n",
       "  <thead>\n",
       "    <tr style=\"text-align: right;\">\n",
       "      <th></th>\n",
       "      <th>topic</th>\n",
       "      <th>lang</th>\n",
       "      <th>format</th>\n",
       "      <th>length</th>\n",
       "      <th>text</th>\n",
       "      <th>embedding_2</th>\n",
       "      <th>embedding_3_small</th>\n",
       "      <th>embedding_3_large</th>\n",
       "    </tr>\n",
       "  </thead>\n",
       "  <tbody>\n",
       "    <tr>\n",
       "      <th>0</th>\n",
       "      <td>じゃがいも</td>\n",
       "      <td>en</td>\n",
       "      <td>prose</td>\n",
       "      <td>long_sum</td>\n",
       "      <td>Potatoes are a vegetable native to South Ameri...</td>\n",
       "      <td>[0.017380426068302725, -0.018543428196079303, ...</td>\n",
       "      <td>[-0.006245624336255771, -0.04292074686214286, ...</td>\n",
       "      <td>[0.012517579007594287, -0.04335306299595459, -...</td>\n",
       "    </tr>\n",
       "  </tbody>\n",
       "</table>\n",
       "</div>"
      ],
      "text/plain": [
       "   topic lang format    length  \\\n",
       "0  じゃがいも   en  prose  long_sum   \n",
       "\n",
       "                                                text  \\\n",
       "0  Potatoes are a vegetable native to South Ameri...   \n",
       "\n",
       "                                         embedding_2  \\\n",
       "0  [0.017380426068302725, -0.018543428196079303, ...   \n",
       "\n",
       "                                   embedding_3_small  \\\n",
       "0  [-0.006245624336255771, -0.04292074686214286, ...   \n",
       "\n",
       "                                   embedding_3_large  \n",
       "0  [0.012517579007594287, -0.04335306299595459, -...  "
      ]
     },
     "execution_count": 3,
     "metadata": {},
     "output_type": "execute_result"
    }
   ],
   "source": [
    "df = pd.read_csv(f'data/{topic_type}/data.csv',index_col=0, dtype=str)\n",
    "df['embedding_2'] = [eval(e) for e in df['embedding_2']]\n",
    "df['embedding_3_small'] = [eval(e) for e in df['embedding_3_small']]\n",
    "df['embedding_3_large'] = [eval(e) for e in df['embedding_3_large']]\n",
    "print(len(df))\n",
    "df.head(1)"
   ]
  },
  {
   "cell_type": "code",
   "execution_count": 4,
   "metadata": {},
   "outputs": [],
   "source": [
    "import umap\n",
    "import plotly.express as px\n",
    "\n",
    "params = {\n",
    "    'n_neighbors': 400,\n",
    "    'min_dist': 0.2,\n",
    "    'metric': 'cosine',\n",
    "    # 'metric': 'euclidean',\n",
    "}"
   ]
  },
  {
   "cell_type": "code",
   "execution_count": 5,
   "metadata": {},
   "outputs": [],
   "source": [
    "embeddings_2 = df['embedding_2'].tolist()\n",
    "embeddings_3_small = df['embedding_3_small'].tolist()\n",
    "embeddings_3_large = df['embedding_3_large'].tolist()"
   ]
  },
  {
   "cell_type": "code",
   "execution_count": 6,
   "metadata": {},
   "outputs": [],
   "source": [
    "umap_model = umap.UMAP(n_components=2, **params)\n",
    "embeddings_2_2d = umap_model.fit_transform(embeddings_2)\n",
    "embeddings_3s_2d = umap_model.fit_transform(embeddings_3_small)\n",
    "embeddings_3l_2d = umap_model.fit_transform(embeddings_3_large)"
   ]
  },
  {
   "cell_type": "code",
   "execution_count": 7,
   "metadata": {},
   "outputs": [
    {
     "data": {
      "text/plain": [
       "numpy.ndarray"
      ]
     },
     "execution_count": 7,
     "metadata": {},
     "output_type": "execute_result"
    }
   ],
   "source": [
    "type(embeddings_2_2d)"
   ]
  },
  {
   "cell_type": "code",
   "execution_count": 8,
   "metadata": {},
   "outputs": [],
   "source": [
    "for i,id in enumerate(df.index):\n",
    "    df.loc[id,'x_2'] = embeddings_2_2d[i][0]\n",
    "    df.loc[id,'y_2'] = embeddings_2_2d[i][1]\n",
    "    df.loc[id,'x_3s'] = embeddings_3s_2d[i][0]\n",
    "    df.loc[id,'y_3s'] = embeddings_3s_2d[i][1]\n",
    "    df.loc[id,'x_3l'] = embeddings_3l_2d[i][0]\n",
    "    df.loc[id,'y_3l'] = embeddings_3l_2d[i][1]\n",
    "df.to_csv('all_data.csv')"
   ]
  },
  {
   "cell_type": "code",
   "execution_count": 9,
   "metadata": {},
   "outputs": [],
   "source": [
    "os.makedirs(f\"output/{topic_type}\", exist_ok=True)\n",
    "def save(embedding_model, color):\n",
    "    x = ''\n",
    "    y = ''\n",
    "    if embedding_model == '2':\n",
    "        x = 'x_2'\n",
    "        y = 'y_2'\n",
    "    elif embedding_model == '3s':\n",
    "        x = 'x_3s'\n",
    "        y = 'y_3s'\n",
    "    elif embedding_model == '3l':\n",
    "        x = 'x_3l'\n",
    "        y = 'y_3l'\n",
    "    else:\n",
    "        print('Error')\n",
    "    fig = px.scatter(\n",
    "        df, x=x, y=y,\n",
    "        color=color,\n",
    "        hover_data=['topic','lang','format','length'],\n",
    "        opacity=0.5\n",
    "    )\n",
    "    fig.write_html(f'output/{topic_type}/{embedding_model}_{color}_scatter.html')\n",
    "    fig.write_image(f'output/{topic_type}/{embedding_model}_{color}_scatter.png')\n"
   ]
  },
  {
   "cell_type": "markdown",
   "metadata": {},
   "source": [
    "### ada-002"
   ]
  },
  {
   "cell_type": "markdown",
   "metadata": {},
   "source": [
    "#### 食材"
   ]
  },
  {
   "cell_type": "code",
   "execution_count": 10,
   "metadata": {},
   "outputs": [],
   "source": [
    "save('2','topic')"
   ]
  },
  {
   "cell_type": "markdown",
   "metadata": {},
   "source": [
    "#### 形式"
   ]
  },
  {
   "cell_type": "code",
   "execution_count": 11,
   "metadata": {},
   "outputs": [],
   "source": [
    "save('2','format')"
   ]
  },
  {
   "cell_type": "markdown",
   "metadata": {},
   "source": [
    "### 言語"
   ]
  },
  {
   "cell_type": "code",
   "execution_count": 12,
   "metadata": {},
   "outputs": [],
   "source": [
    "save('2','lang')"
   ]
  },
  {
   "cell_type": "markdown",
   "metadata": {},
   "source": [
    "### 3-small"
   ]
  },
  {
   "cell_type": "code",
   "execution_count": 13,
   "metadata": {},
   "outputs": [],
   "source": [
    "save('3s','topic')"
   ]
  },
  {
   "cell_type": "code",
   "execution_count": 14,
   "metadata": {},
   "outputs": [],
   "source": [
    "save('3s','format')"
   ]
  },
  {
   "cell_type": "code",
   "execution_count": 15,
   "metadata": {},
   "outputs": [],
   "source": [
    "save('3s','lang')"
   ]
  },
  {
   "cell_type": "markdown",
   "metadata": {},
   "source": [
    "### 3-large"
   ]
  },
  {
   "cell_type": "code",
   "execution_count": 16,
   "metadata": {},
   "outputs": [],
   "source": [
    "save('3l','topic')"
   ]
  },
  {
   "cell_type": "code",
   "execution_count": 17,
   "metadata": {},
   "outputs": [],
   "source": [
    "save('3l','format')"
   ]
  },
  {
   "cell_type": "code",
   "execution_count": 18,
   "metadata": {},
   "outputs": [],
   "source": [
    "save('3l','lang')"
   ]
  }
 ],
 "metadata": {
  "kernelspec": {
   "display_name": ".venv",
   "language": "python",
   "name": "python3"
  },
  "language_info": {
   "codemirror_mode": {
    "name": "ipython",
    "version": 3
   },
   "file_extension": ".py",
   "mimetype": "text/x-python",
   "name": "python",
   "nbconvert_exporter": "python",
   "pygments_lexer": "ipython3",
   "version": "3.10.13"
  }
 },
 "nbformat": 4,
 "nbformat_minor": 2
}
