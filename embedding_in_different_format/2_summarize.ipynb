{
 "cells": [
  {
   "cell_type": "code",
   "execution_count": 3,
   "metadata": {},
   "outputs": [],
   "source": [
    "import os, json\n",
    "from dotenv import load_dotenv, find_dotenv; _ = load_dotenv(find_dotenv())"
   ]
  },
  {
   "cell_type": "code",
   "execution_count": 4,
   "metadata": {},
   "outputs": [],
   "source": [
    "from langchain_openai import ChatOpenAI\n",
    "from langchain.prompts import ChatPromptTemplate\n",
    "from langchain.schema.runnable import RunnablePassthrough"
   ]
  },
  {
   "cell_type": "code",
   "execution_count": 5,
   "metadata": {},
   "outputs": [],
   "source": [
    "topic_type = 'foods'\n",
    "topic_file = f'{topic_type}.txt'"
   ]
  },
  {
   "cell_type": "code",
   "execution_count": 6,
   "metadata": {},
   "outputs": [
    {
     "data": {
      "text/plain": [
       "['じゃがいも', '玉ねぎ', 'にんじん', 'なす', 'トマト', 'ピーマン']"
      ]
     },
     "execution_count": 6,
     "metadata": {},
     "output_type": "execute_result"
    }
   ],
   "source": [
    "with open(f'config/{topic_file}', 'r') as f:\n",
    "    topic_list = f.read().splitlines()\n",
    "topic_list"
   ]
  },
  {
   "cell_type": "markdown",
   "metadata": {},
   "source": [
    "## Summarizing chain"
   ]
  },
  {
   "cell_type": "code",
   "execution_count": 7,
   "metadata": {},
   "outputs": [
    {
     "data": {
      "text/plain": [
       "{'name': 'GenerateSummary',\n",
       " 'description': 'Generate long and short summary texts.',\n",
       " 'parameters': {'type': 'object',\n",
       "  'properties': {'long_summary': {'type': 'string'},\n",
       "   'short_summary': {'type': 'string'}},\n",
       "  'required': ['long_summary', 'short_summary']}}"
      ]
     },
     "execution_count": 7,
     "metadata": {},
     "output_type": "execute_result"
    }
   ],
   "source": [
    "from pydantic import BaseModel, Field\n",
    "from langchain_core.utils.function_calling import convert_to_openai_function\n",
    "\n",
    "class GenerateSummary(BaseModel):\n",
    "    \"\"\"Generate long and short summary texts.\"\"\"\n",
    "    long_summary: str = Field(...)\n",
    "    short_summary: str = Field(...)\n",
    "\n",
    "summarize_func = convert_to_openai_function(function=GenerateSummary)\n",
    "summarize_func"
   ]
  },
  {
   "cell_type": "code",
   "execution_count": 8,
   "metadata": {},
   "outputs": [],
   "source": [
    "template_str = \"\"\"\\\n",
    "ユーザーが入力したテキストについて要約を生成してください。\n",
    "要約は元のテキストの情報を全て保持するようにしてください。\n",
    "\"\"\""
   ]
  },
  {
   "cell_type": "code",
   "execution_count": 9,
   "metadata": {},
   "outputs": [],
   "source": [
    "prompt_template = ChatPromptTemplate.from_messages([\n",
    "    ('system', template_str),\n",
    "    ('user', '{text}')\n",
    "])\n",
    "\n",
    "chat = ChatOpenAI(model='gpt-3.5-turbo-0125', temperature=0., max_tokens=4096)\n",
    "\n",
    "chat_with_func = chat.bind(\n",
    "    functions=[summarize_func],\n",
    "    function_call={'name':'GenerateSummary'}\n",
    ")\n",
    "\n",
    "summarizing_chain = (\n",
    "    {'text': RunnablePassthrough()}\n",
    "    | prompt_template\n",
    "    | chat_with_func\n",
    ")"
   ]
  },
  {
   "cell_type": "markdown",
   "metadata": {},
   "source": [
    "### Test"
   ]
  },
  {
   "cell_type": "code",
   "execution_count": 10,
   "metadata": {},
   "outputs": [],
   "source": [
    "# topic = topic_list[0]\n",
    "# with open(f'./data/{topic_type}/{topic}/ja-prose-full.txt', 'r') as f:\n",
    "#     text = f.read()\n",
    "# # print(text)\n",
    "\n",
    "# res = summarizing_chain.invoke(text)\n",
    "# print(res)"
   ]
  },
  {
   "cell_type": "code",
   "execution_count": 11,
   "metadata": {},
   "outputs": [],
   "source": [
    "# args = json.loads(res.additional_kwargs['function_call']['arguments'])\n",
    "# print(len(text), text)\n",
    "# print(len(args['long_summary']), args['long_summary'])\n",
    "# print(len(args['short_summary']), args['short_summary'])"
   ]
  },
  {
   "cell_type": "markdown",
   "metadata": {},
   "source": [
    "### Batch"
   ]
  },
  {
   "cell_type": "code",
   "execution_count": 12,
   "metadata": {},
   "outputs": [],
   "source": [
    "texts = [\n",
    "    open(f'./data/{topic_type}/{topic}/ja-prose-full.txt', 'r').read()\n",
    "    for topic in topic_list\n",
    "]\n",
    "res = summarizing_chain.batch(texts)"
   ]
  },
  {
   "cell_type": "code",
   "execution_count": 13,
   "metadata": {},
   "outputs": [],
   "source": [
    "short_summaries = []\n",
    "long_summaries = []\n",
    "for r in res:\n",
    "    args = json.loads(r.additional_kwargs['function_call']['arguments'])\n",
    "    short_summaries.append(args['short_summary'])\n",
    "    long_summaries.append(args['long_summary'])"
   ]
  },
  {
   "cell_type": "code",
   "execution_count": 14,
   "metadata": {},
   "outputs": [
    {
     "name": "stdout",
     "output_type": "stream",
     "text": [
      "じゃがいも 606 327 155\n",
      "玉ねぎ 689 677 152\n",
      "にんじん 605 347 125\n",
      "なす 457 319 108\n",
      "トマト 532 275 102\n",
      "ピーマン 592 396 159\n"
     ]
    }
   ],
   "source": [
    "for (topic,full), (short, long) in zip(zip(topic_list, texts), zip(short_summaries, long_summaries)):\n",
    "    print(topic, len(full), len(long), len(short))\n",
    "    with open(f'./data/{topic_type}/{topic}/ja-prose-short_sum.txt', 'w') as f:\n",
    "        f.write(short)\n",
    "    with open(f'./data/{topic_type}/{topic}/ja-prose-long_sum.txt', 'w') as f:\n",
    "        f.write(long)"
   ]
  }
 ],
 "metadata": {
  "kernelspec": {
   "display_name": ".venv",
   "language": "python",
   "name": "python3"
  },
  "language_info": {
   "codemirror_mode": {
    "name": "ipython",
    "version": 3
   },
   "file_extension": ".py",
   "mimetype": "text/x-python",
   "name": "python",
   "nbconvert_exporter": "python",
   "pygments_lexer": "ipython3",
   "version": "3.10.13"
  }
 },
 "nbformat": 4,
 "nbformat_minor": 2
}
